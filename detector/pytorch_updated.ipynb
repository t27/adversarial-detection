{
 "cells": [
  {
   "cell_type": "code",
   "execution_count": 1,
   "metadata": {
    "id": "1meIzCd9in5s"
   },
   "outputs": [],
   "source": [
    "import torch\n",
    "import torch.nn as nn\n",
    "import torch.nn.functional as F\n",
    "import torchvision\n",
    "import torchvision.transforms as transforms"
   ]
  },
  {
   "cell_type": "code",
   "execution_count": 2,
   "metadata": {
    "id": "z0la95GPXn_t"
   },
   "outputs": [
    {
     "name": "stdout",
     "output_type": "stream",
     "text": [
      "True\n",
      "AD(\n",
      "  (layer1): Conv2d(62, 96, kernel_size=(3, 3), stride=(1, 1))\n",
      "  (layer2): BatchNorm2d(96, eps=1e-05, momentum=0.1, affine=True, track_running_stats=True)\n",
      "  (layer3): ReLU()\n",
      "  (layer4): MaxPool2d(kernel_size=2, stride=2, padding=0, dilation=1, ceil_mode=False)\n",
      "  (layer5): Conv2d(96, 192, kernel_size=(3, 3), stride=(1, 1))\n",
      "  (layer6): BatchNorm2d(192, eps=1e-05, momentum=0.1, affine=True, track_running_stats=True)\n",
      "  (layer7): ReLU()\n",
      "  (layer8): MaxPool2d(kernel_size=2, stride=2, padding=0, dilation=1, ceil_mode=False)\n",
      "  (layer9): Conv2d(192, 192, kernel_size=(3, 3), stride=(1, 1))\n",
      "  (layer10): BatchNorm2d(192, eps=1e-05, momentum=0.1, affine=True, track_running_stats=True)\n",
      "  (layer11): ReLU()\n",
      "  (layer12): Conv2d(192, 2, kernel_size=(1, 1), stride=(1, 1))\n",
      ")\n"
     ]
    }
   ],
   "source": [
    "# dummy, to be updated\n",
    "class AD(nn.Module):\n",
    "    def __init__(self, in_channels, pooling1 = False, pooling2=False):\n",
    "        super(AD, self).__init__()\n",
    "        self.pooling1=pooling1\n",
    "        self.pooling2=pooling2\n",
    "        self.layer1=nn.Conv2d(in_channels=in_channels, out_channels=96,kernel_size=3,stride=1)\n",
    "        self.layer2=nn.BatchNorm2d(96)\n",
    "        self.layer3=nn.ReLU()\n",
    "        self.layer4=nn.MaxPool2d(2,2) #1st pooling layer\n",
    "        self.layer5=nn.Conv2d(in_channels=96, out_channels=192,kernel_size=3,stride=1)\n",
    "        self.layer6=nn.BatchNorm2d(192)\n",
    "        self.layer7=nn.ReLU()\n",
    "        self.layer8=nn.MaxPool2d(2,2)  #2nd pooling layer\n",
    "        self.layer9=nn.Conv2d(in_channels=192, out_channels=192,kernel_size=3,stride=1)\n",
    "        self.layer10=nn.BatchNorm2d(192)\n",
    "        self.layer11=nn.ReLU()\n",
    "        self.layer12=nn.Conv2d(in_channels=192,out_channels=2,kernel_size=1,stride=1)\n",
    "        print(self.pooling1)\n",
    "        \n",
    "        \n",
    "    def forward(self,x):\n",
    "        \n",
    "        x = self.layer1(x)\n",
    "        x = self.layer2(x)\n",
    "        x = self.layer3(x)\n",
    "        if self.pooling1==True:\n",
    "            x = self.layer4(x)\n",
    "        x = self.layer5(x)\n",
    "        x = self.layer6(x)\n",
    "        x = self.layer7(x)\n",
    "        if self.pooling1==True:\n",
    "            x = self.layer8(x)\n",
    "        x = self.layer9(x)\n",
    "        x = self.layer10(x)\n",
    "        x = self.layer11(x)\n",
    "        x = self.layer12(x)\n",
    "        return x\n",
    "    \n",
    "net = AD(62,True,False)\n",
    "print(net)\n"
   ]
  },
  {
   "cell_type": "code",
   "execution_count": null,
   "metadata": {},
   "outputs": [],
   "source": []
  },
  {
   "cell_type": "code",
   "execution_count": null,
   "metadata": {},
   "outputs": [],
   "source": []
  },
  {
   "cell_type": "code",
   "execution_count": null,
   "metadata": {},
   "outputs": [],
   "source": []
  }
 ],
 "metadata": {
  "colab": {
   "name": "pytorch.ipynb",
   "provenance": []
  },
  "kernelspec": {
   "display_name": "Python 3",
   "language": "python",
   "name": "python3"
  },
  "language_info": {
   "codemirror_mode": {
    "name": "ipython",
    "version": 3
   },
   "file_extension": ".py",
   "mimetype": "text/x-python",
   "name": "python",
   "nbconvert_exporter": "python",
   "pygments_lexer": "ipython3",
   "version": "3.7.6"
  }
 },
 "nbformat": 4,
 "nbformat_minor": 1
}
