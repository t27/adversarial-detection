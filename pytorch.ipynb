{
  "nbformat": 4,
  "nbformat_minor": 0,
  "metadata": {
    "colab": {
      "name": "pytorch.ipynb",
      "provenance": []
    },
    "kernelspec": {
      "name": "python3",
      "display_name": "Python 3"
    }
  },
  "cells": [
    {
      "cell_type": "code",
      "metadata": {
        "id": "1meIzCd9in5s"
      },
      "source": [
        "import torch\n",
        "import torch.nn as nn\n",
        "import torch.nn.functional as F\n",
        "import torchvision\n",
        "import torchvision.transforms as transforms"
      ],
      "execution_count": null,
      "outputs": []
    },
    {
      "cell_type": "code",
      "metadata": {
        "id": "B4PfZTKsitZb",
        "outputId": "ae928889-7cd8-46e5-dc35-08ebc563a5e1",
        "colab": {
          "base_uri": "https://localhost:8080/"
        }
      },
      "source": [
        "'''\n",
        "arrange=[32,32,32,16,8,1,1]\n",
        "i=0\n",
        "layer1 = nn.Sequential(\n",
        "            nn.Conv2d(arrange[i],arrange[i], kernel_size=96, stride=1, padding=1),\n",
        "            nn.MaxPool2d(kernel_size=2, stride=2),\n",
        "            nn.Conv2d(arrange[i],arrange[i], kernel_size=192, stride=1, padding=1),\n",
        "            nn.MaxPool2d(kernel_size=2, stride=2),\n",
        "            nn.Conv2d(arrange[i],arrange[i], kernel_size=192, stride=1, padding=1),\n",
        "            nn.Conv2d(arrange[i],arrange[i], kernel_size=2, stride=1, padding=1),\n",
        "            nn.AvgPool2d(kernel_size=2, stride=2)\n",
        "            )\n",
        "'''\n",
        "\n",
        "class Net(nn.Module):\n",
        "    def __init__(self):\n",
        "        super(Net, self).__init__()\n",
        "        self.layer1=nn.Conv2d(arrange[i],arrange[i], kernel_size=96, stride=1, padding=1)\n",
        "        self.layer2=nn.Conv2d(arrange[i],arrange[i], kernel_size=192, stride=1, padding=1)\n",
        "        self.layer3=nn.Conv2d(arrange[i],arrange[i], kernel_size=192, stride=1, padding=1)\n",
        "        self.layer4=nn.Conv2d(arrange[i],1, kernel_size=2, stride=1, padding=1)\n",
        "\n",
        "    def forward(self, x):\n",
        "        x = F.max_pool2d(self.layer1(x), (2, 2))\n",
        "        x = F.max_pool2d(self.layer2(x), 2)\n",
        "        x = self.layer3(x)\n",
        "        x = self.layer4(x)\n",
        "        x = F.AvgPool2d(x,(2,2))\n",
        "        return x\n",
        "\n",
        "net = Net()\n",
        "print(net)\n",
        "\n",
        "\n",
        "\n",
        "        \n",
        "     "
      ],
      "execution_count": null,
      "outputs": [
        {
          "output_type": "stream",
          "text": [
            "Net(\n",
            "  (layer1): Conv2d(32, 32, kernel_size=(96, 96), stride=(1, 1), padding=(1, 1))\n",
            "  (layer2): Conv2d(32, 32, kernel_size=(192, 192), stride=(1, 1), padding=(1, 1))\n",
            "  (layer3): Conv2d(32, 32, kernel_size=(192, 192), stride=(1, 1), padding=(1, 1))\n",
            "  (layer4): Conv2d(32, 1, kernel_size=(2, 2), stride=(1, 1), padding=(1, 1))\n",
            ")\n"
          ],
          "name": "stdout"
        }
      ]
    },
    {
      "cell_type": "code",
      "metadata": {
        "id": "z0la95GPXn_t"
      },
      "source": [
        "# dummy, to be updated\n",
        "class AD(nn.Module):\n",
        "    def __init__(self, in_channels, pooling = False):\n",
        "        super(AD, self).__init__()\n",
        "        self.conv = nn.Sequential(\n",
        "            nn.Conv2d(in_channels=in_channels, out_channels=96,kernel_size=3,stride=1),\n",
        "            nn.BatchNorm2d(96),nn.ReLU(),\n",
        "            nn.MaxPool2d(2,2),\n",
        "            nn.Conv2d(in_channels=96, out_channels=192,kernel_size=3,stride=1),\n",
        "            nn.BatchNorm2d(192),nn.ReLU(),\n",
        "            nn.MaxPool2d(2,2),\n",
        "            nn.Conv2d(in_channels=192, out_channels=192,kernel_size=3,stride=1),\n",
        "            nn.BatchNorm2d(192),nn.ReLU(),\n",
        "            nn.MaxPool2d(2,2),\n",
        "            nn.Conv2d(in_channels=192,out_channels=2,kernel_size=1,stride=1),\n",
        "        )"
      ],
      "execution_count": null,
      "outputs": []
    }
  ]
}